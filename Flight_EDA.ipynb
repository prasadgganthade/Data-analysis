{
 "cells": [
  {
   "cell_type": "code",
   "execution_count": 1,
   "id": "a96848a2",
   "metadata": {},
   "outputs": [],
   "source": [
    "import numpy as np\n",
    "import pandas as pd\n",
    "import matplotlib.pyplot as plt\n",
    "import seaborn as sns"
   ]
  },
  {
   "cell_type": "code",
   "execution_count": 2,
   "id": "547e9f43",
   "metadata": {},
   "outputs": [
    {
     "data": {
      "text/plain": [
       "['anagrams',\n",
       " 'anscombe',\n",
       " 'attention',\n",
       " 'brain_networks',\n",
       " 'car_crashes',\n",
       " 'diamonds',\n",
       " 'dots',\n",
       " 'dowjones',\n",
       " 'exercise',\n",
       " 'flights',\n",
       " 'fmri',\n",
       " 'geyser',\n",
       " 'glue',\n",
       " 'healthexp',\n",
       " 'iris',\n",
       " 'mpg',\n",
       " 'penguins',\n",
       " 'planets',\n",
       " 'seaice',\n",
       " 'taxis',\n",
       " 'tips',\n",
       " 'titanic']"
      ]
     },
     "execution_count": 2,
     "metadata": {},
     "output_type": "execute_result"
    }
   ],
   "source": [
    "sns.get_dataset_names()"
   ]
  },
  {
   "cell_type": "code",
   "execution_count": 3,
   "id": "b5cab255",
   "metadata": {},
   "outputs": [],
   "source": [
    "flight = sns.load_dataset('flights')"
   ]
  },
  {
   "cell_type": "code",
   "execution_count": 4,
   "id": "a7f3f3e9",
   "metadata": {},
   "outputs": [
    {
     "data": {
      "text/html": [
       "<div>\n",
       "<style scoped>\n",
       "    .dataframe tbody tr th:only-of-type {\n",
       "        vertical-align: middle;\n",
       "    }\n",
       "\n",
       "    .dataframe tbody tr th {\n",
       "        vertical-align: top;\n",
       "    }\n",
       "\n",
       "    .dataframe thead th {\n",
       "        text-align: right;\n",
       "    }\n",
       "</style>\n",
       "<table border=\"1\" class=\"dataframe\">\n",
       "  <thead>\n",
       "    <tr style=\"text-align: right;\">\n",
       "      <th></th>\n",
       "      <th>year</th>\n",
       "      <th>month</th>\n",
       "      <th>passengers</th>\n",
       "    </tr>\n",
       "  </thead>\n",
       "  <tbody>\n",
       "    <tr>\n",
       "      <th>0</th>\n",
       "      <td>1949</td>\n",
       "      <td>Jan</td>\n",
       "      <td>112</td>\n",
       "    </tr>\n",
       "    <tr>\n",
       "      <th>1</th>\n",
       "      <td>1949</td>\n",
       "      <td>Feb</td>\n",
       "      <td>118</td>\n",
       "    </tr>\n",
       "    <tr>\n",
       "      <th>2</th>\n",
       "      <td>1949</td>\n",
       "      <td>Mar</td>\n",
       "      <td>132</td>\n",
       "    </tr>\n",
       "    <tr>\n",
       "      <th>3</th>\n",
       "      <td>1949</td>\n",
       "      <td>Apr</td>\n",
       "      <td>129</td>\n",
       "    </tr>\n",
       "    <tr>\n",
       "      <th>4</th>\n",
       "      <td>1949</td>\n",
       "      <td>May</td>\n",
       "      <td>121</td>\n",
       "    </tr>\n",
       "  </tbody>\n",
       "</table>\n",
       "</div>"
      ],
      "text/plain": [
       "   year month  passengers\n",
       "0  1949   Jan         112\n",
       "1  1949   Feb         118\n",
       "2  1949   Mar         132\n",
       "3  1949   Apr         129\n",
       "4  1949   May         121"
      ]
     },
     "execution_count": 4,
     "metadata": {},
     "output_type": "execute_result"
    }
   ],
   "source": [
    "# First 5 rows\n",
    "flight.head()"
   ]
  },
  {
   "cell_type": "code",
   "execution_count": 5,
   "id": "b2f3264d",
   "metadata": {},
   "outputs": [
    {
     "data": {
      "text/plain": [
       "(144, 3)"
      ]
     },
     "execution_count": 5,
     "metadata": {},
     "output_type": "execute_result"
    }
   ],
   "source": [
    "# Checking shape\n",
    "flight.shape"
   ]
  },
  {
   "cell_type": "code",
   "execution_count": 6,
   "id": "693c00b8",
   "metadata": {},
   "outputs": [
    {
     "data": {
      "text/plain": [
       "Index(['year', 'month', 'passengers'], dtype='object')"
      ]
     },
     "execution_count": 6,
     "metadata": {},
     "output_type": "execute_result"
    }
   ],
   "source": [
    "# Checking column names\n",
    "flight.columns"
   ]
  },
  {
   "cell_type": "code",
   "execution_count": 7,
   "id": "f59d2901",
   "metadata": {},
   "outputs": [
    {
     "name": "stdout",
     "output_type": "stream",
     "text": [
      "<class 'pandas.core.frame.DataFrame'>\n",
      "RangeIndex: 144 entries, 0 to 143\n",
      "Data columns (total 3 columns):\n",
      " #   Column      Non-Null Count  Dtype   \n",
      "---  ------      --------------  -----   \n",
      " 0   year        144 non-null    int64   \n",
      " 1   month       144 non-null    category\n",
      " 2   passengers  144 non-null    int64   \n",
      "dtypes: category(1), int64(2)\n",
      "memory usage: 2.9 KB\n"
     ]
    }
   ],
   "source": [
    "# File summary\n",
    "flight.info()"
   ]
  },
  {
   "cell_type": "code",
   "execution_count": 8,
   "id": "74357c5a",
   "metadata": {},
   "outputs": [
    {
     "data": {
      "text/html": [
       "<div>\n",
       "<style scoped>\n",
       "    .dataframe tbody tr th:only-of-type {\n",
       "        vertical-align: middle;\n",
       "    }\n",
       "\n",
       "    .dataframe tbody tr th {\n",
       "        vertical-align: top;\n",
       "    }\n",
       "\n",
       "    .dataframe thead th {\n",
       "        text-align: right;\n",
       "    }\n",
       "</style>\n",
       "<table border=\"1\" class=\"dataframe\">\n",
       "  <thead>\n",
       "    <tr style=\"text-align: right;\">\n",
       "      <th></th>\n",
       "      <th>year</th>\n",
       "      <th>passengers</th>\n",
       "    </tr>\n",
       "  </thead>\n",
       "  <tbody>\n",
       "    <tr>\n",
       "      <th>count</th>\n",
       "      <td>144.000000</td>\n",
       "      <td>144.000000</td>\n",
       "    </tr>\n",
       "    <tr>\n",
       "      <th>mean</th>\n",
       "      <td>1954.500000</td>\n",
       "      <td>280.298611</td>\n",
       "    </tr>\n",
       "    <tr>\n",
       "      <th>std</th>\n",
       "      <td>3.464102</td>\n",
       "      <td>119.966317</td>\n",
       "    </tr>\n",
       "    <tr>\n",
       "      <th>min</th>\n",
       "      <td>1949.000000</td>\n",
       "      <td>104.000000</td>\n",
       "    </tr>\n",
       "    <tr>\n",
       "      <th>25%</th>\n",
       "      <td>1951.750000</td>\n",
       "      <td>180.000000</td>\n",
       "    </tr>\n",
       "    <tr>\n",
       "      <th>50%</th>\n",
       "      <td>1954.500000</td>\n",
       "      <td>265.500000</td>\n",
       "    </tr>\n",
       "    <tr>\n",
       "      <th>75%</th>\n",
       "      <td>1957.250000</td>\n",
       "      <td>360.500000</td>\n",
       "    </tr>\n",
       "    <tr>\n",
       "      <th>max</th>\n",
       "      <td>1960.000000</td>\n",
       "      <td>622.000000</td>\n",
       "    </tr>\n",
       "  </tbody>\n",
       "</table>\n",
       "</div>"
      ],
      "text/plain": [
       "              year  passengers\n",
       "count   144.000000  144.000000\n",
       "mean   1954.500000  280.298611\n",
       "std       3.464102  119.966317\n",
       "min    1949.000000  104.000000\n",
       "25%    1951.750000  180.000000\n",
       "50%    1954.500000  265.500000\n",
       "75%    1957.250000  360.500000\n",
       "max    1960.000000  622.000000"
      ]
     },
     "execution_count": 8,
     "metadata": {},
     "output_type": "execute_result"
    }
   ],
   "source": [
    "# Check description\n",
    "flight.describe()"
   ]
  },
  {
   "cell_type": "code",
   "execution_count": 9,
   "id": "3e4d4c3f",
   "metadata": {},
   "outputs": [
    {
     "data": {
      "text/plain": [
       "year          0\n",
       "month         0\n",
       "passengers    0\n",
       "dtype: int64"
      ]
     },
     "execution_count": 9,
     "metadata": {},
     "output_type": "execute_result"
    }
   ],
   "source": [
    "# Check missing value\n",
    "flight.isna().sum()"
   ]
  },
  {
   "cell_type": "code",
   "execution_count": 11,
   "id": "1520fa24",
   "metadata": {},
   "outputs": [
    {
     "data": {
      "text/plain": [
       "0"
      ]
     },
     "execution_count": 11,
     "metadata": {},
     "output_type": "execute_result"
    }
   ],
   "source": [
    "# check duplicates\n",
    "flight.duplicated().sum()"
   ]
  },
  {
   "cell_type": "code",
   "execution_count": 24,
   "id": "6afd362b",
   "metadata": {},
   "outputs": [
    {
     "data": {
      "text/html": [
       "<div>\n",
       "<style scoped>\n",
       "    .dataframe tbody tr th:only-of-type {\n",
       "        vertical-align: middle;\n",
       "    }\n",
       "\n",
       "    .dataframe tbody tr th {\n",
       "        vertical-align: top;\n",
       "    }\n",
       "\n",
       "    .dataframe thead th {\n",
       "        text-align: right;\n",
       "    }\n",
       "</style>\n",
       "<table border=\"1\" class=\"dataframe\">\n",
       "  <thead>\n",
       "    <tr style=\"text-align: right;\">\n",
       "      <th></th>\n",
       "      <th>year</th>\n",
       "      <th>month</th>\n",
       "      <th>passengers</th>\n",
       "    </tr>\n",
       "  </thead>\n",
       "  <tbody>\n",
       "    <tr>\n",
       "      <th>139</th>\n",
       "      <td>1960</td>\n",
       "      <td>Aug</td>\n",
       "      <td>606</td>\n",
       "    </tr>\n",
       "    <tr>\n",
       "      <th>140</th>\n",
       "      <td>1960</td>\n",
       "      <td>Sep</td>\n",
       "      <td>508</td>\n",
       "    </tr>\n",
       "    <tr>\n",
       "      <th>141</th>\n",
       "      <td>1960</td>\n",
       "      <td>Oct</td>\n",
       "      <td>461</td>\n",
       "    </tr>\n",
       "    <tr>\n",
       "      <th>142</th>\n",
       "      <td>1960</td>\n",
       "      <td>Nov</td>\n",
       "      <td>390</td>\n",
       "    </tr>\n",
       "    <tr>\n",
       "      <th>143</th>\n",
       "      <td>1960</td>\n",
       "      <td>Dec</td>\n",
       "      <td>432</td>\n",
       "    </tr>\n",
       "  </tbody>\n",
       "</table>\n",
       "</div>"
      ],
      "text/plain": [
       "     year month  passengers\n",
       "139  1960   Aug         606\n",
       "140  1960   Sep         508\n",
       "141  1960   Oct         461\n",
       "142  1960   Nov         390\n",
       "143  1960   Dec         432"
      ]
     },
     "execution_count": 24,
     "metadata": {},
     "output_type": "execute_result"
    }
   ],
   "source": [
    "# Last 5 rows\n",
    "flight.tail()"
   ]
  },
  {
   "cell_type": "markdown",
   "id": "11475992",
   "metadata": {},
   "source": [
    "# EDA"
   ]
  },
  {
   "cell_type": "markdown",
   "id": "c728d60c",
   "metadata": {},
   "source": [
    "### 1. Finding unique year values"
   ]
  },
  {
   "cell_type": "code",
   "execution_count": 12,
   "id": "b3f7f1d4",
   "metadata": {},
   "outputs": [
    {
     "data": {
      "text/plain": [
       "array([1949, 1950, 1951, 1952, 1953, 1954, 1955, 1956, 1957, 1958, 1959,\n",
       "       1960], dtype=int64)"
      ]
     },
     "execution_count": 12,
     "metadata": {},
     "output_type": "execute_result"
    }
   ],
   "source": [
    "flight.year.unique()"
   ]
  },
  {
   "cell_type": "code",
   "execution_count": 18,
   "id": "4a8fe22c",
   "metadata": {},
   "outputs": [
    {
     "data": {
      "text/plain": [
       "year\n",
       "1949    1520\n",
       "1950    1676\n",
       "1951    2042\n",
       "1952    2364\n",
       "1953    2700\n",
       "1954    2867\n",
       "1955    3408\n",
       "1956    3939\n",
       "1957    4421\n",
       "1958    4572\n",
       "1959    5140\n",
       "1960    5714\n",
       "Name: passengers, dtype: int64"
      ]
     },
     "execution_count": 18,
     "metadata": {},
     "output_type": "execute_result"
    }
   ],
   "source": [
    "year = flight.groupby('year').passengers.sum()\n",
    "year"
   ]
  },
  {
   "cell_type": "code",
   "execution_count": 21,
   "id": "010d9fbe",
   "metadata": {},
   "outputs": [
    {
     "data": {
      "text/html": [
       "<div>\n",
       "<style scoped>\n",
       "    .dataframe tbody tr th:only-of-type {\n",
       "        vertical-align: middle;\n",
       "    }\n",
       "\n",
       "    .dataframe tbody tr th {\n",
       "        vertical-align: top;\n",
       "    }\n",
       "\n",
       "    .dataframe thead th {\n",
       "        text-align: right;\n",
       "    }\n",
       "</style>\n",
       "<table border=\"1\" class=\"dataframe\">\n",
       "  <thead>\n",
       "    <tr style=\"text-align: right;\">\n",
       "      <th></th>\n",
       "      <th>year</th>\n",
       "      <th>passengers</th>\n",
       "    </tr>\n",
       "  </thead>\n",
       "  <tbody>\n",
       "    <tr>\n",
       "      <th>0</th>\n",
       "      <td>1949</td>\n",
       "      <td>1520</td>\n",
       "    </tr>\n",
       "    <tr>\n",
       "      <th>1</th>\n",
       "      <td>1950</td>\n",
       "      <td>1676</td>\n",
       "    </tr>\n",
       "    <tr>\n",
       "      <th>2</th>\n",
       "      <td>1951</td>\n",
       "      <td>2042</td>\n",
       "    </tr>\n",
       "    <tr>\n",
       "      <th>3</th>\n",
       "      <td>1952</td>\n",
       "      <td>2364</td>\n",
       "    </tr>\n",
       "    <tr>\n",
       "      <th>4</th>\n",
       "      <td>1953</td>\n",
       "      <td>2700</td>\n",
       "    </tr>\n",
       "    <tr>\n",
       "      <th>5</th>\n",
       "      <td>1954</td>\n",
       "      <td>2867</td>\n",
       "    </tr>\n",
       "    <tr>\n",
       "      <th>6</th>\n",
       "      <td>1955</td>\n",
       "      <td>3408</td>\n",
       "    </tr>\n",
       "    <tr>\n",
       "      <th>7</th>\n",
       "      <td>1956</td>\n",
       "      <td>3939</td>\n",
       "    </tr>\n",
       "    <tr>\n",
       "      <th>8</th>\n",
       "      <td>1957</td>\n",
       "      <td>4421</td>\n",
       "    </tr>\n",
       "    <tr>\n",
       "      <th>9</th>\n",
       "      <td>1958</td>\n",
       "      <td>4572</td>\n",
       "    </tr>\n",
       "    <tr>\n",
       "      <th>10</th>\n",
       "      <td>1959</td>\n",
       "      <td>5140</td>\n",
       "    </tr>\n",
       "    <tr>\n",
       "      <th>11</th>\n",
       "      <td>1960</td>\n",
       "      <td>5714</td>\n",
       "    </tr>\n",
       "  </tbody>\n",
       "</table>\n",
       "</div>"
      ],
      "text/plain": [
       "    year  passengers\n",
       "0   1949        1520\n",
       "1   1950        1676\n",
       "2   1951        2042\n",
       "3   1952        2364\n",
       "4   1953        2700\n",
       "5   1954        2867\n",
       "6   1955        3408\n",
       "7   1956        3939\n",
       "8   1957        4421\n",
       "9   1958        4572\n",
       "10  1959        5140\n",
       "11  1960        5714"
      ]
     },
     "execution_count": 21,
     "metadata": {},
     "output_type": "execute_result"
    }
   ],
   "source": [
    "flight_year = year.to_frame().reset_index()\n",
    "flight_year"
   ]
  },
  {
   "cell_type": "code",
   "execution_count": 23,
   "id": "b841992b",
   "metadata": {},
   "outputs": [
    {
     "data": {
      "image/png": "[encoded data removed]",
      "text/plain": [
       "<Figure size 640x480 with 1 Axes>"
      ]
     },
     "metadata": {},
     "output_type": "display_data"
    }
   ],
   "source": [
    "sns.barplot(data=flight_year,x='year',y='passengers')\n",
    "plt.title('Year wise passengers count')\n",
    "plt.show()"
   ]
  },
  {
   "cell_type": "markdown",
   "id": "50409509",
   "metadata": {},
   "source": [
    "In The above year 1949 has less passengers and year 1960 have highest passengers. Relation between year to number of passengers is increasing year by year."
   ]
  },
  {
   "cell_type": "code",
   "execution_count": 25,
   "id": "1acfc43d",
   "metadata": {},
   "outputs": [
    {
     "data": {
      "text/plain": [
       "5714"
      ]
     },
     "execution_count": 25,
     "metadata": {},
     "output_type": "execute_result"
    }
   ],
   "source": [
    "# Finding the maximum passenger count in year\n",
    "flight.groupby('year').passengers.sum().max()"
   ]
  },
  {
   "cell_type": "code",
   "execution_count": 26,
   "id": "09a9cab4",
   "metadata": {},
   "outputs": [
    {
     "data": {
      "text/plain": [
       "1520"
      ]
     },
     "execution_count": 26,
     "metadata": {},
     "output_type": "execute_result"
    }
   ],
   "source": [
    "# Minimum number passengers count in years\n",
    "flight.groupby('year').passengers.sum().min()"
   ]
  },
  {
   "cell_type": "code",
   "execution_count": 27,
   "id": "c6128961",
   "metadata": {},
   "outputs": [
    {
     "data": {
      "text/plain": [
       "3363.5833333333335"
      ]
     },
     "execution_count": 27,
     "metadata": {},
     "output_type": "execute_result"
    }
   ],
   "source": [
    "# Average number of paasengers per year is\n",
    "flight.groupby('year').passengers.sum().mean()"
   ]
  },
  {
   "cell_type": "code",
   "execution_count": 40,
   "id": "268805ca",
   "metadata": {},
   "outputs": [
    {
     "data": {
      "image/png": "[encoded data removed]",
      "text/plain": [
       "<Figure size 640x480 with 1 Axes>"
      ]
     },
     "metadata": {},
     "output_type": "display_data"
    }
   ],
   "source": [
    "flight.groupby('year').passengers.sum().plot(kind='pie',autopct='%1.2f')\n",
    "plt.title('Year wise passenger %')\n",
    "plt.show()"
   ]
  },
  {
   "cell_type": "markdown",
   "id": "0f33828e",
   "metadata": {},
   "source": [
    "### Month wise passenger"
   ]
  },
  {
   "cell_type": "code",
   "execution_count": 30,
   "id": "d82dfe55",
   "metadata": {},
   "outputs": [
    {
     "data": {
      "text/html": [
       "<div>\n",
       "<style scoped>\n",
       "    .dataframe tbody tr th:only-of-type {\n",
       "        vertical-align: middle;\n",
       "    }\n",
       "\n",
       "    .dataframe tbody tr th {\n",
       "        vertical-align: top;\n",
       "    }\n",
       "\n",
       "    .dataframe thead th {\n",
       "        text-align: right;\n",
       "    }\n",
       "</style>\n",
       "<table border=\"1\" class=\"dataframe\">\n",
       "  <thead>\n",
       "    <tr style=\"text-align: right;\">\n",
       "      <th></th>\n",
       "      <th>month</th>\n",
       "      <th>passengers</th>\n",
       "    </tr>\n",
       "  </thead>\n",
       "  <tbody>\n",
       "    <tr>\n",
       "      <th>0</th>\n",
       "      <td>Jan</td>\n",
       "      <td>2901</td>\n",
       "    </tr>\n",
       "    <tr>\n",
       "      <th>1</th>\n",
       "      <td>Feb</td>\n",
       "      <td>2820</td>\n",
       "    </tr>\n",
       "    <tr>\n",
       "      <th>2</th>\n",
       "      <td>Mar</td>\n",
       "      <td>3242</td>\n",
       "    </tr>\n",
       "    <tr>\n",
       "      <th>3</th>\n",
       "      <td>Apr</td>\n",
       "      <td>3205</td>\n",
       "    </tr>\n",
       "    <tr>\n",
       "      <th>4</th>\n",
       "      <td>May</td>\n",
       "      <td>3262</td>\n",
       "    </tr>\n",
       "    <tr>\n",
       "      <th>5</th>\n",
       "      <td>Jun</td>\n",
       "      <td>3740</td>\n",
       "    </tr>\n",
       "    <tr>\n",
       "      <th>6</th>\n",
       "      <td>Jul</td>\n",
       "      <td>4216</td>\n",
       "    </tr>\n",
       "    <tr>\n",
       "      <th>7</th>\n",
       "      <td>Aug</td>\n",
       "      <td>4213</td>\n",
       "    </tr>\n",
       "    <tr>\n",
       "      <th>8</th>\n",
       "      <td>Sep</td>\n",
       "      <td>3629</td>\n",
       "    </tr>\n",
       "    <tr>\n",
       "      <th>9</th>\n",
       "      <td>Oct</td>\n",
       "      <td>3199</td>\n",
       "    </tr>\n",
       "    <tr>\n",
       "      <th>10</th>\n",
       "      <td>Nov</td>\n",
       "      <td>2794</td>\n",
       "    </tr>\n",
       "    <tr>\n",
       "      <th>11</th>\n",
       "      <td>Dec</td>\n",
       "      <td>3142</td>\n",
       "    </tr>\n",
       "  </tbody>\n",
       "</table>\n",
       "</div>"
      ],
      "text/plain": [
       "   month  passengers\n",
       "0    Jan        2901\n",
       "1    Feb        2820\n",
       "2    Mar        3242\n",
       "3    Apr        3205\n",
       "4    May        3262\n",
       "5    Jun        3740\n",
       "6    Jul        4216\n",
       "7    Aug        4213\n",
       "8    Sep        3629\n",
       "9    Oct        3199\n",
       "10   Nov        2794\n",
       "11   Dec        3142"
      ]
     },
     "execution_count": 30,
     "metadata": {},
     "output_type": "execute_result"
    }
   ],
   "source": [
    "flight_month = flight.groupby('month').passengers.sum().to_frame().reset_index()\n",
    "flight_month"
   ]
  },
  {
   "cell_type": "code",
   "execution_count": 31,
   "id": "72abde13",
   "metadata": {},
   "outputs": [
    {
     "data": {
      "text/plain": [
       "4216"
      ]
     },
     "execution_count": 31,
     "metadata": {},
     "output_type": "execute_result"
    }
   ],
   "source": [
    "# Finding maximum passengers in which month\n",
    "flight.groupby('month').passengers.sum().max()"
   ]
  },
  {
   "cell_type": "code",
   "execution_count": 32,
   "id": "f812b969",
   "metadata": {},
   "outputs": [
    {
     "data": {
      "text/plain": [
       "2794"
      ]
     },
     "execution_count": 32,
     "metadata": {},
     "output_type": "execute_result"
    }
   ],
   "source": [
    "# Minimum number of passengers \n",
    "flight.groupby('month').passengers.sum().min()"
   ]
  },
  {
   "cell_type": "code",
   "execution_count": 33,
   "id": "dcf93627",
   "metadata": {},
   "outputs": [
    {
     "data": {
      "text/plain": [
       "3363.5833333333335"
      ]
     },
     "execution_count": 33,
     "metadata": {},
     "output_type": "execute_result"
    }
   ],
   "source": [
    "# Average number of passangers from month\n",
    "flight.groupby('month').passengers.sum().mean()"
   ]
  },
  {
   "cell_type": "code",
   "execution_count": 36,
   "id": "88ee0f6f",
   "metadata": {},
   "outputs": [
    {
     "data": {
      "image/png": "[encoded data removed]",
      "text/plain": [
       "<Figure size 640x480 with 1 Axes>"
      ]
     },
     "metadata": {},
     "output_type": "display_data"
    }
   ],
   "source": [
    "sns.barplot(data=flight_month,x='month',y='passengers')\n",
    "plt.title('Month wise paasenger count')\n",
    "plt.show()"
   ]
  },
  {
   "cell_type": "markdown",
   "id": "b42b88b4",
   "metadata": {},
   "source": [
    "In the above we see that july month has highest number of passengers and feb month has lowest month of passengers."
   ]
  },
  {
   "cell_type": "code",
   "execution_count": 39,
   "id": "0071b479",
   "metadata": {},
   "outputs": [
    {
     "data": {
      "image/png": "[encoded data removed]",
      "text/plain": [
       "<Figure size 640x480 with 1 Axes>"
      ]
     },
     "metadata": {},
     "output_type": "display_data"
    }
   ],
   "source": [
    "flight.groupby('month').passengers.sum().plot(kind='pie',autopct='%1.2f')\n",
    "plt.title('Month wise passenger %')\n",
    "plt.show()"
   ]
  },
  {
   "cell_type": "code",
   "execution_count": 64,
   "id": "61e091c1",
   "metadata": {},
   "outputs": [
    {
     "data": {
      "text/html": [
       "<style type=\"text/css\">\n",
       "#T_6d8c7_row0_col0, #T_6d8c7_row1_col0, #T_6d8c7_row2_col0, #T_6d8c7_row3_col0, #T_6d8c7_row4_col0, #T_6d8c7_row5_col0, #T_6d8c7_row6_col0, #T_6d8c7_row7_col0, #T_6d8c7_row8_col0, #T_6d8c7_row9_col0, #T_6d8c7_row10_col0, #T_6d8c7_row10_col1, #T_6d8c7_row11_col0 {\n",
       "  background-color: #fff5f0;\n",
       "  color: #000000;\n",
       "}\n",
       "#T_6d8c7_row0_col1 {\n",
       "  background-color: #fdd0bc;\n",
       "  color: #000000;\n",
       "}\n",
       "#T_6d8c7_row1_col1, #T_6d8c7_row11_col1 {\n",
       "  background-color: #fca588;\n",
       "  color: #000000;\n",
       "}\n",
       "#T_6d8c7_row2_col1 {\n",
       "  background-color: #ec382b;\n",
       "  color: #f1f1f1;\n",
       "}\n",
       "#T_6d8c7_row3_col1 {\n",
       "  background-color: #f4503a;\n",
       "  color: #f1f1f1;\n",
       "}\n",
       "#T_6d8c7_row4_col1 {\n",
       "  background-color: #fc8f6f;\n",
       "  color: #000000;\n",
       "}\n",
       "#T_6d8c7_row5_col1 {\n",
       "  background-color: #d82422;\n",
       "  color: #f1f1f1;\n",
       "}\n",
       "#T_6d8c7_row6_col1, #T_6d8c7_row7_col1 {\n",
       "  background-color: #67000d;\n",
       "  color: #f1f1f1;\n",
       "}\n",
       "#T_6d8c7_row8_col1 {\n",
       "  background-color: #d11e1f;\n",
       "  color: #f1f1f1;\n",
       "}\n",
       "#T_6d8c7_row9_col1 {\n",
       "  background-color: #fc9d7f;\n",
       "  color: #000000;\n",
       "}\n",
       "</style>\n",
       "<table id=\"T_6d8c7\">\n",
       "  <thead>\n",
       "    <tr>\n",
       "      <th class=\"blank level0\" >&nbsp;</th>\n",
       "      <th id=\"T_6d8c7_level0_col0\" class=\"col_heading level0 col0\" >year</th>\n",
       "      <th id=\"T_6d8c7_level0_col1\" class=\"col_heading level0 col1\" >passengers</th>\n",
       "    </tr>\n",
       "    <tr>\n",
       "      <th class=\"index_name level0\" >month</th>\n",
       "      <th class=\"blank col0\" >&nbsp;</th>\n",
       "      <th class=\"blank col1\" >&nbsp;</th>\n",
       "    </tr>\n",
       "  </thead>\n",
       "  <tbody>\n",
       "    <tr>\n",
       "      <th id=\"T_6d8c7_level0_row0\" class=\"row_heading level0 row0\" >Jan</th>\n",
       "      <td id=\"T_6d8c7_row0_col0\" class=\"data row0 col0\" >1949</td>\n",
       "      <td id=\"T_6d8c7_row0_col1\" class=\"data row0 col1\" >112</td>\n",
       "    </tr>\n",
       "    <tr>\n",
       "      <th id=\"T_6d8c7_level0_row1\" class=\"row_heading level0 row1\" >Feb</th>\n",
       "      <td id=\"T_6d8c7_row1_col0\" class=\"data row1 col0\" >1949</td>\n",
       "      <td id=\"T_6d8c7_row1_col1\" class=\"data row1 col1\" >118</td>\n",
       "    </tr>\n",
       "    <tr>\n",
       "      <th id=\"T_6d8c7_level0_row2\" class=\"row_heading level0 row2\" >Mar</th>\n",
       "      <td id=\"T_6d8c7_row2_col0\" class=\"data row2 col0\" >1949</td>\n",
       "      <td id=\"T_6d8c7_row2_col1\" class=\"data row2 col1\" >132</td>\n",
       "    </tr>\n",
       "    <tr>\n",
       "      <th id=\"T_6d8c7_level0_row3\" class=\"row_heading level0 row3\" >Apr</th>\n",
       "      <td id=\"T_6d8c7_row3_col0\" class=\"data row3 col0\" >1949</td>\n",
       "      <td id=\"T_6d8c7_row3_col1\" class=\"data row3 col1\" >129</td>\n",
       "    </tr>\n",
       "    <tr>\n",
       "      <th id=\"T_6d8c7_level0_row4\" class=\"row_heading level0 row4\" >May</th>\n",
       "      <td id=\"T_6d8c7_row4_col0\" class=\"data row4 col0\" >1949</td>\n",
       "      <td id=\"T_6d8c7_row4_col1\" class=\"data row4 col1\" >121</td>\n",
       "    </tr>\n",
       "    <tr>\n",
       "      <th id=\"T_6d8c7_level0_row5\" class=\"row_heading level0 row5\" >Jun</th>\n",
       "      <td id=\"T_6d8c7_row5_col0\" class=\"data row5 col0\" >1949</td>\n",
       "      <td id=\"T_6d8c7_row5_col1\" class=\"data row5 col1\" >135</td>\n",
       "    </tr>\n",
       "    <tr>\n",
       "      <th id=\"T_6d8c7_level0_row6\" class=\"row_heading level0 row6\" >Jul</th>\n",
       "      <td id=\"T_6d8c7_row6_col0\" class=\"data row6 col0\" >1949</td>\n",
       "      <td id=\"T_6d8c7_row6_col1\" class=\"data row6 col1\" >148</td>\n",
       "    </tr>\n",
       "    <tr>\n",
       "      <th id=\"T_6d8c7_level0_row7\" class=\"row_heading level0 row7\" >Aug</th>\n",
       "      <td id=\"T_6d8c7_row7_col0\" class=\"data row7 col0\" >1949</td>\n",
       "      <td id=\"T_6d8c7_row7_col1\" class=\"data row7 col1\" >148</td>\n",
       "    </tr>\n",
       "    <tr>\n",
       "      <th id=\"T_6d8c7_level0_row8\" class=\"row_heading level0 row8\" >Sep</th>\n",
       "      <td id=\"T_6d8c7_row8_col0\" class=\"data row8 col0\" >1949</td>\n",
       "      <td id=\"T_6d8c7_row8_col1\" class=\"data row8 col1\" >136</td>\n",
       "    </tr>\n",
       "    <tr>\n",
       "      <th id=\"T_6d8c7_level0_row9\" class=\"row_heading level0 row9\" >Oct</th>\n",
       "      <td id=\"T_6d8c7_row9_col0\" class=\"data row9 col0\" >1949</td>\n",
       "      <td id=\"T_6d8c7_row9_col1\" class=\"data row9 col1\" >119</td>\n",
       "    </tr>\n",
       "    <tr>\n",
       "      <th id=\"T_6d8c7_level0_row10\" class=\"row_heading level0 row10\" >Nov</th>\n",
       "      <td id=\"T_6d8c7_row10_col0\" class=\"data row10 col0\" >1949</td>\n",
       "      <td id=\"T_6d8c7_row10_col1\" class=\"data row10 col1\" >104</td>\n",
       "    </tr>\n",
       "    <tr>\n",
       "      <th id=\"T_6d8c7_level0_row11\" class=\"row_heading level0 row11\" >Dec</th>\n",
       "      <td id=\"T_6d8c7_row11_col0\" class=\"data row11 col0\" >1949</td>\n",
       "      <td id=\"T_6d8c7_row11_col1\" class=\"data row11 col1\" >118</td>\n",
       "    </tr>\n",
       "  </tbody>\n",
       "</table>\n"
      ],
      "text/plain": [
       "<pandas.io.formats.style.Styler at 0x26fef888f40>"
      ]
     },
     "execution_count": 64,
     "metadata": {},
     "output_type": "execute_result"
    }
   ],
   "source": [
    "flight_min_pass = flight.groupby('month')[['year','passengers']].min()\n",
    "flight_min_pass.style.background_gradient('Reds')"
   ]
  },
  {
   "cell_type": "code",
   "execution_count": 65,
   "id": "819a6b2d",
   "metadata": {},
   "outputs": [
    {
     "data": {
      "text/html": [
       "<style type=\"text/css\">\n",
       "#T_77645_row0_col0, #T_77645_row1_col0, #T_77645_row2_col0, #T_77645_row3_col0, #T_77645_row4_col0, #T_77645_row5_col0, #T_77645_row6_col0, #T_77645_row7_col0, #T_77645_row8_col0, #T_77645_row9_col0, #T_77645_row10_col0, #T_77645_row10_col1, #T_77645_row11_col0 {\n",
       "  background-color: #f7fcf5;\n",
       "  color: #000000;\n",
       "}\n",
       "#T_77645_row0_col1 {\n",
       "  background-color: #e7f6e2;\n",
       "  color: #000000;\n",
       "}\n",
       "#T_77645_row1_col1 {\n",
       "  background-color: #f6fcf4;\n",
       "  color: #000000;\n",
       "}\n",
       "#T_77645_row2_col1 {\n",
       "  background-color: #e5f5e0;\n",
       "  color: #000000;\n",
       "}\n",
       "#T_77645_row3_col1, #T_77645_row9_col1 {\n",
       "  background-color: #b6e2af;\n",
       "  color: #000000;\n",
       "}\n",
       "#T_77645_row4_col1 {\n",
       "  background-color: #a8dca2;\n",
       "  color: #000000;\n",
       "}\n",
       "#T_77645_row5_col1 {\n",
       "  background-color: #40aa5d;\n",
       "  color: #f1f1f1;\n",
       "}\n",
       "#T_77645_row6_col1 {\n",
       "  background-color: #00441b;\n",
       "  color: #f1f1f1;\n",
       "}\n",
       "#T_77645_row7_col1 {\n",
       "  background-color: #005a24;\n",
       "  color: #f1f1f1;\n",
       "}\n",
       "#T_77645_row8_col1 {\n",
       "  background-color: #70c274;\n",
       "  color: #000000;\n",
       "}\n",
       "#T_77645_row11_col1 {\n",
       "  background-color: #d8f0d2;\n",
       "  color: #000000;\n",
       "}\n",
       "</style>\n",
       "<table id=\"T_77645\">\n",
       "  <thead>\n",
       "    <tr>\n",
       "      <th class=\"blank level0\" >&nbsp;</th>\n",
       "      <th id=\"T_77645_level0_col0\" class=\"col_heading level0 col0\" >year</th>\n",
       "      <th id=\"T_77645_level0_col1\" class=\"col_heading level0 col1\" >passengers</th>\n",
       "    </tr>\n",
       "    <tr>\n",
       "      <th class=\"index_name level0\" >month</th>\n",
       "      <th class=\"blank col0\" >&nbsp;</th>\n",
       "      <th class=\"blank col1\" >&nbsp;</th>\n",
       "    </tr>\n",
       "  </thead>\n",
       "  <tbody>\n",
       "    <tr>\n",
       "      <th id=\"T_77645_level0_row0\" class=\"row_heading level0 row0\" >Jan</th>\n",
       "      <td id=\"T_77645_row0_col0\" class=\"data row0 col0\" >1960</td>\n",
       "      <td id=\"T_77645_row0_col1\" class=\"data row0 col1\" >417</td>\n",
       "    </tr>\n",
       "    <tr>\n",
       "      <th id=\"T_77645_level0_row1\" class=\"row_heading level0 row1\" >Feb</th>\n",
       "      <td id=\"T_77645_row1_col0\" class=\"data row1 col0\" >1960</td>\n",
       "      <td id=\"T_77645_row1_col1\" class=\"data row1 col1\" >391</td>\n",
       "    </tr>\n",
       "    <tr>\n",
       "      <th id=\"T_77645_level0_row2\" class=\"row_heading level0 row2\" >Mar</th>\n",
       "      <td id=\"T_77645_row2_col0\" class=\"data row2 col0\" >1960</td>\n",
       "      <td id=\"T_77645_row2_col1\" class=\"data row2 col1\" >419</td>\n",
       "    </tr>\n",
       "    <tr>\n",
       "      <th id=\"T_77645_level0_row3\" class=\"row_heading level0 row3\" >Apr</th>\n",
       "      <td id=\"T_77645_row3_col0\" class=\"data row3 col0\" >1960</td>\n",
       "      <td id=\"T_77645_row3_col1\" class=\"data row3 col1\" >461</td>\n",
       "    </tr>\n",
       "    <tr>\n",
       "      <th id=\"T_77645_level0_row4\" class=\"row_heading level0 row4\" >May</th>\n",
       "      <td id=\"T_77645_row4_col0\" class=\"data row4 col0\" >1960</td>\n",
       "      <td id=\"T_77645_row4_col1\" class=\"data row4 col1\" >472</td>\n",
       "    </tr>\n",
       "    <tr>\n",
       "      <th id=\"T_77645_level0_row5\" class=\"row_heading level0 row5\" >Jun</th>\n",
       "      <td id=\"T_77645_row5_col0\" class=\"data row5 col0\" >1960</td>\n",
       "      <td id=\"T_77645_row5_col1\" class=\"data row5 col1\" >535</td>\n",
       "    </tr>\n",
       "    <tr>\n",
       "      <th id=\"T_77645_level0_row6\" class=\"row_heading level0 row6\" >Jul</th>\n",
       "      <td id=\"T_77645_row6_col0\" class=\"data row6 col0\" >1960</td>\n",
       "      <td id=\"T_77645_row6_col1\" class=\"data row6 col1\" >622</td>\n",
       "    </tr>\n",
       "    <tr>\n",
       "      <th id=\"T_77645_level0_row7\" class=\"row_heading level0 row7\" >Aug</th>\n",
       "      <td id=\"T_77645_row7_col0\" class=\"data row7 col0\" >1960</td>\n",
       "      <td id=\"T_77645_row7_col1\" class=\"data row7 col1\" >606</td>\n",
       "    </tr>\n",
       "    <tr>\n",
       "      <th id=\"T_77645_level0_row8\" class=\"row_heading level0 row8\" >Sep</th>\n",
       "      <td id=\"T_77645_row8_col0\" class=\"data row8 col0\" >1960</td>\n",
       "      <td id=\"T_77645_row8_col1\" class=\"data row8 col1\" >508</td>\n",
       "    </tr>\n",
       "    <tr>\n",
       "      <th id=\"T_77645_level0_row9\" class=\"row_heading level0 row9\" >Oct</th>\n",
       "      <td id=\"T_77645_row9_col0\" class=\"data row9 col0\" >1960</td>\n",
       "      <td id=\"T_77645_row9_col1\" class=\"data row9 col1\" >461</td>\n",
       "    </tr>\n",
       "    <tr>\n",
       "      <th id=\"T_77645_level0_row10\" class=\"row_heading level0 row10\" >Nov</th>\n",
       "      <td id=\"T_77645_row10_col0\" class=\"data row10 col0\" >1960</td>\n",
       "      <td id=\"T_77645_row10_col1\" class=\"data row10 col1\" >390</td>\n",
       "    </tr>\n",
       "    <tr>\n",
       "      <th id=\"T_77645_level0_row11\" class=\"row_heading level0 row11\" >Dec</th>\n",
       "      <td id=\"T_77645_row11_col0\" class=\"data row11 col0\" >1960</td>\n",
       "      <td id=\"T_77645_row11_col1\" class=\"data row11 col1\" >432</td>\n",
       "    </tr>\n",
       "  </tbody>\n",
       "</table>\n"
      ],
      "text/plain": [
       "<pandas.io.formats.style.Styler at 0x26ff0a8c460>"
      ]
     },
     "execution_count": 65,
     "metadata": {},
     "output_type": "execute_result"
    }
   ],
   "source": [
    "flight_max_pass = flight.groupby('month')[['year','passengers']].max()\n",
    "flight_max_pass.style.background_gradient('Greens')"
   ]
  },
  {
   "cell_type": "code",
   "execution_count": null,
   "id": "2dc6aa8b",
   "metadata": {},
   "outputs": [],
   "source": []
  }
 ],
 "metadata": {
  "kernelspec": {
   "display_name": "Python 3 (ipykernel)",
   "language": "python",
   "name": "python3"
  },
  "language_info": {
   "codemirror_mode": {
    "name": "ipython",
    "version": 3
   },
   "file_extension": ".py",
   "mimetype": "text/x-python",
   "name": "python",
   "nbconvert_exporter": "python",
   "pygments_lexer": "ipython3",
   "version": "3.9.13"
  }
 },
 "nbformat": 4,
 "nbformat_minor": 5
}
